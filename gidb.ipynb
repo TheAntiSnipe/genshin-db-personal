{
 "metadata": {
  "language_info": {
   "codemirror_mode": {
    "name": "ipython",
    "version": 3
   },
   "file_extension": ".py",
   "mimetype": "text/x-python",
   "name": "python",
   "nbconvert_exporter": "python",
   "pygments_lexer": "ipython3",
   "version": "3.8.5"
  },
  "orig_nbformat": 4,
  "kernelspec": {
   "name": "python3",
   "display_name": "Python 3.8.5 32-bit"
  },
  "interpreter": {
   "hash": "390033fe7ab332c1b9ad91d6598b84c780184e0962d36f75fc3b23de51b62f52"
  }
 },
 "nbformat": 4,
 "nbformat_minor": 2,
 "cells": [
  {
   "cell_type": "code",
   "execution_count": 8,
   "metadata": {},
   "outputs": [],
   "source": [
    "import pandas"
   ]
  },
  {
   "cell_type": "code",
   "execution_count": 9,
   "metadata": {},
   "outputs": [
    {
     "output_type": "execute_result",
     "data": {
      "text/plain": [
       "     Mora  uncommon crystal fragment  rare crystal fragment  \\\n",
       "0   24200                          0                      0   \n",
       "1  135800                          1                      0   \n",
       "2  156000                          0                      3   \n",
       "3  231000                          0                      6   \n",
       "4  319200                          0                      0   \n",
       "5  402400                          0                      0   \n",
       "6  804800                          0                      0   \n",
       "\n",
       "   epic crystal fragment  legendary crystal fragment  boss material  \\\n",
       "0                      0                           0              0   \n",
       "1                      0                           0              0   \n",
       "2                      0                           0              2   \n",
       "3                      0                           0              4   \n",
       "4                      3                           0              8   \n",
       "5                      6                           0             12   \n",
       "6                      0                           6             20   \n",
       "\n",
       "   local speciality  mob drops(common)  mob drops(uncommon)  mob drops(rare)  \\\n",
       "0                 0                  0                    0                0   \n",
       "1                 3                  3                    0                0   \n",
       "2                10                 15                    0                0   \n",
       "3                20                  0                   12                0   \n",
       "4                30                  0                   18                0   \n",
       "5                45                  0                    0               12   \n",
       "6                60                  0                    0               24   \n",
       "\n",
       "   EXP needed  \n",
       "0      120175  \n",
       "1      578325  \n",
       "2      579100  \n",
       "3      854125  \n",
       "4     1195925  \n",
       "5     1611875  \n",
       "6     3423125  "
      ],
      "text/html": "<div>\n<style scoped>\n    .dataframe tbody tr th:only-of-type {\n        vertical-align: middle;\n    }\n\n    .dataframe tbody tr th {\n        vertical-align: top;\n    }\n\n    .dataframe thead th {\n        text-align: right;\n    }\n</style>\n<table border=\"1\" class=\"dataframe\">\n  <thead>\n    <tr style=\"text-align: right;\">\n      <th></th>\n      <th>Mora</th>\n      <th>uncommon crystal fragment</th>\n      <th>rare crystal fragment</th>\n      <th>epic crystal fragment</th>\n      <th>legendary crystal fragment</th>\n      <th>boss material</th>\n      <th>local speciality</th>\n      <th>mob drops(common)</th>\n      <th>mob drops(uncommon)</th>\n      <th>mob drops(rare)</th>\n      <th>EXP needed</th>\n    </tr>\n  </thead>\n  <tbody>\n    <tr>\n      <th>0</th>\n      <td>24200</td>\n      <td>0</td>\n      <td>0</td>\n      <td>0</td>\n      <td>0</td>\n      <td>0</td>\n      <td>0</td>\n      <td>0</td>\n      <td>0</td>\n      <td>0</td>\n      <td>120175</td>\n    </tr>\n    <tr>\n      <th>1</th>\n      <td>135800</td>\n      <td>1</td>\n      <td>0</td>\n      <td>0</td>\n      <td>0</td>\n      <td>0</td>\n      <td>3</td>\n      <td>3</td>\n      <td>0</td>\n      <td>0</td>\n      <td>578325</td>\n    </tr>\n    <tr>\n      <th>2</th>\n      <td>156000</td>\n      <td>0</td>\n      <td>3</td>\n      <td>0</td>\n      <td>0</td>\n      <td>2</td>\n      <td>10</td>\n      <td>15</td>\n      <td>0</td>\n      <td>0</td>\n      <td>579100</td>\n    </tr>\n    <tr>\n      <th>3</th>\n      <td>231000</td>\n      <td>0</td>\n      <td>6</td>\n      <td>0</td>\n      <td>0</td>\n      <td>4</td>\n      <td>20</td>\n      <td>0</td>\n      <td>12</td>\n      <td>0</td>\n      <td>854125</td>\n    </tr>\n    <tr>\n      <th>4</th>\n      <td>319200</td>\n      <td>0</td>\n      <td>0</td>\n      <td>3</td>\n      <td>0</td>\n      <td>8</td>\n      <td>30</td>\n      <td>0</td>\n      <td>18</td>\n      <td>0</td>\n      <td>1195925</td>\n    </tr>\n    <tr>\n      <th>5</th>\n      <td>402400</td>\n      <td>0</td>\n      <td>0</td>\n      <td>6</td>\n      <td>0</td>\n      <td>12</td>\n      <td>45</td>\n      <td>0</td>\n      <td>0</td>\n      <td>12</td>\n      <td>1611875</td>\n    </tr>\n    <tr>\n      <th>6</th>\n      <td>804800</td>\n      <td>0</td>\n      <td>0</td>\n      <td>0</td>\n      <td>6</td>\n      <td>20</td>\n      <td>60</td>\n      <td>0</td>\n      <td>0</td>\n      <td>24</td>\n      <td>3423125</td>\n    </tr>\n  </tbody>\n</table>\n</div>"
     },
     "metadata": {},
     "execution_count": 9
    }
   ],
   "source": [
    "initial_dataframe = pandas.read_csv('ascendreq.csv')\n",
    "initial_dataframe"
   ]
  },
  {
   "cell_type": "code",
   "execution_count": 13,
   "metadata": {},
   "outputs": [
    {
     "output_type": "stream",
     "name": "stdout",
     "text": [
      "My character is currently at: \n",
      "1> Level 1\n",
      "2> Level 20\n",
      "3> Level 40\n",
      "4> Level 50\n",
      "5> Level 60\n",
      "6> Level 70\n",
      "7> Level 80\n",
      "(We are assuming your character hasn't been ascended at that level. If you select 20, your character should be 20/20, not 20/40.)\n",
      "I want my character to be: \n",
      "1> Level 20\n",
      "2> Level 40\n",
      "3> Level 50\n",
      "4> Level 60\n",
      "5> Level 70\n",
      "6> Level 80\n",
      "7> Level 90\n",
      "Mora : 2073400\n",
      "uncommon crystal fragment : 1\n",
      "rare crystal fragment : 9\n",
      "epic crystal fragment : 9\n",
      "legendary crystal fragment : 6\n",
      "boss material : 46\n",
      "local speciality : 168\n",
      "mob drops(common) : 18\n",
      "mob drops(uncommon) : 30\n",
      "mob drops(rare) : 36\n",
      "EXP books needed in terms of epic EXP books:  418.13\n"
     ]
    }
   ],
   "source": [
    "def find_total_cost_of_levels(current_level,required_level):\n",
    "    #Index start corresponds to (current_level-1)th value. Index end corresponds to this too.\n",
    "    final_dataframe = initial_dataframe.iloc[current_level-1:required_level].sum()\n",
    "    dataframe_dict = final_dataframe.to_dict()\n",
    "    for key,value in dataframe_dict.items():\n",
    "        if(value!=0):\n",
    "            if(key!='EXP needed'):\n",
    "                print(key,\":\",value)\n",
    "            else:\n",
    "                final_exp_required = round(value/20000,2)\n",
    "                print(\"EXP books needed in terms of epic EXP books: \",final_exp_required)\n",
    "\n",
    "print(\"My character is currently at: \")\n",
    "print(\"1> Level 1\")\n",
    "print(\"2> Level 20\")\n",
    "print(\"3> Level 40\")\n",
    "print(\"4> Level 50\")\n",
    "print(\"5> Level 60\")\n",
    "print(\"6> Level 70\")\n",
    "print(\"7> Level 80\")\n",
    "print(\"(We are assuming your character hasn't been ascended at that level. If you select 20, your character should be 20/20, not 20/40.)\")\n",
    "current_level = int(input(\"Enter the corresponding number: \"))\n",
    "\n",
    "print(\"I want my character to be: \")\n",
    "print(\"1> Level 20\")\n",
    "print(\"2> Level 40\")\n",
    "print(\"3> Level 50\")\n",
    "print(\"4> Level 60\")\n",
    "print(\"5> Level 70\")\n",
    "print(\"6> Level 80\")\n",
    "print(\"7> Level 90\")\n",
    "required_level = int(input(\"Enter the corresponding number: \"))\n",
    "if(required_level<current_level):\n",
    "    print(\"Your required level cannot be lower than your current level. Exiting.\")\n",
    "else:\n",
    "    find_total_cost_of_levels(current_level,required_level)\n",
    "\n",
    "\n"
   ]
  },
  {
   "cell_type": "code",
   "execution_count": null,
   "metadata": {},
   "outputs": [],
   "source": []
  }
 ]
}